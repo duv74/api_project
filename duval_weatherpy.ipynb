{
 "cells": [
  {
   "cell_type": "code",
   "execution_count": null,
   "metadata": {
    "scrolled": true
   },
   "outputs": [],
   "source": [
    "# DEPENDENCIES\n",
    "\n",
    "import matplotlib.pyplot as plt\n",
    "import pandas as pd\n",
    "import numpy as np\n",
    "import requests\n",
    "import time\n",
    "import seaborn\n",
    "import random\n",
    "import csv\n",
    "from citipy import citipy\n",
    "from api_keys import api_key"
   ]
  },
  {
   "cell_type": "code",
   "execution_count": null,
   "metadata": {},
   "outputs": [],
   "source": [
    "# INPUT CSV FILE I DOWNLOADED FROM INTERNET\n",
    "\n",
    "world_cities = pd.read_csv(\"worldcities.csv\")\n",
    "\n",
    "# READ CSV\n",
    "\n",
    "world_cities.head()"
   ]
  },
  {
   "cell_type": "code",
   "execution_count": null,
   "metadata": {},
   "outputs": [],
   "source": [
    "# ISOLATE (500) RANDOM CITIES FROM CSV\n",
    "\n",
    "random_cities = world_cities.sample(n=500)\n",
    "\n",
    "# VERIFIED THERE WERE (500) CITIES IN LIST THEN REDUCED TO .HEAD()\n",
    "\n",
    "random_cities.head()"
   ]
  },
  {
   "cell_type": "code",
   "execution_count": null,
   "metadata": {
    "scrolled": true
   },
   "outputs": [],
   "source": [
    "# BEGIN COUNTER\n",
    "\n",
    "row_count = 1\n",
    "\n",
    "# CREATE COLUMNS FOR EACH CATEGORY ANALYZED\n",
    "\n",
    "random_cities[\"Temperature\"] = \"\"\n",
    "random_cities[\"Humidity\"] = \"\"\n",
    "random_cities[\"Cloudiness\"] = \"\"\n",
    "random_cities[\"Wind Speed\"] = \"\"\n",
    "\n",
    "# BEGIN FOR LOOP\n",
    "\n",
    "for index, row in random_cities.iterrows():\n",
    "    \n",
    "    time.sleep(1)\n",
    "    \n",
    "    url = \"http://api.openweathermap.org/data/2.5/weather?\"\n",
    "    \n",
    "    units = \"Imperial\"\n",
    "    \n",
    "    query_url = url + \"lat=\" + str(row[\"Latitude\"]) + \"&lon=\" + str(row[\"Longitude\"]) + \"&appid=\" + api_key + \"&units=\" + units\n",
    "    \n",
    "    print(\"Retrieving Data\" + str(row_count))\n",
    "    \n",
    "    print(query_url)\n",
    "    \n",
    "    row_count = row_count + 1\n",
    "    \n",
    "    city_weather = requests.get(query_url).json()\n",
    "    \n",
    "    try:\n",
    "        temperature = city_weather[\"main\"][\"temp\"]\n",
    "        humidity = city_weather[\"main\"][\"humidity\"]\n",
    "        cloudiness = city_weather[\"clouds\"][\"all\"]\n",
    "        wind_speed = city_weather[\"wind\"][\"speed\"]\n",
    "        \n",
    "        random_cities.set_value(index, \"Temperature\", temperature)\n",
    "        random_cities.set_value(index,\"Humidity\", humidity)\n",
    "        random_cities.set_value(index,\"Cloudiness\", cloudiness)\n",
    "        random_cities.set_value(index,\"Wind Speed\", wind_speed)\n",
    "        \n",
    "    except:\n",
    "        print(\"ERROR - SKIP\")\n",
    "        \n",
    "random_cities"
   ]
  },
  {
   "cell_type": "code",
   "execution_count": null,
   "metadata": {},
   "outputs": [],
   "source": [
    "# CREATE DATAFRAME\n",
    "\n",
    "final_weather = pd.DataFrame(random_cities)\n",
    "\n",
    "final_weather.head()"
   ]
  },
  {
   "cell_type": "code",
   "execution_count": null,
   "metadata": {},
   "outputs": [],
   "source": [
    "# EXPORT TO CSV FILE\n",
    "\n",
    "final_weather.to_csv(\"final_report.csv\")"
   ]
  },
  {
   "cell_type": "code",
   "execution_count": null,
   "metadata": {},
   "outputs": [],
   "source": [
    "# SCATTER PLOT LAT V TEMPERATURE\n",
    "\n",
    "plt.scatter(random_cities[\"Latitude\"],random_cities[\"Temperature\"], alpha = 0.5)\n",
    "\n",
    "plt.title(\"TEMPERATURE v. LATITUDE\")\n",
    "plt.xlabel(\"Latitude\")\n",
    "plt.ylabel(\"Temperature\")\n",
    "plt.savefig(\"Temperature.png\")\n",
    "plt.savefig(\"../web_project/png_images/Humidity.png\")\n",
    "plt.show()"
   ]
  },
  {
   "cell_type": "code",
   "execution_count": null,
   "metadata": {},
   "outputs": [],
   "source": [
    "# SCATTER PLOT LAT V HUMIDITY\n",
    "\n",
    "plt.scatter(random_cities[\"Latitude\"],random_cities[\"Humidity\"], alpha = 0.5)\n",
    "\n",
    "plt.title(\"HUMIDITY v. LATITUDE\")\n",
    "plt.xlabel(\"Latitude\")\n",
    "plt.ylabel(\"Humidity\")\n",
    "plt.savefig(\"Humidity.png\")\n",
    "plt.show()"
   ]
  },
  {
   "cell_type": "code",
   "execution_count": null,
   "metadata": {},
   "outputs": [],
   "source": [
    "# SCATTER PLOT LAT V CLOUDINESS\n",
    "\n",
    "plt.scatter(random_cities[\"Latitude\"],random_cities[\"Cloudiness\"], alpha = 0.5)\n",
    "\n",
    "plt.title(\"CLOUDINESS v. LATITUDE\")\n",
    "plt.xlabel(\"Latitude\")\n",
    "plt.ylabel(\"Cloudiness\")\n",
    "plt.savefig(\"Cloudiness.png\")\n",
    "plt.show()"
   ]
  },
  {
   "cell_type": "code",
   "execution_count": null,
   "metadata": {},
   "outputs": [],
   "source": [
    "# SCATTER PLOT LAT V WIND SPEED\n",
    "\n",
    "plt.scatter(random_cities[\"Latitude\"],random_cities[\"Wind Speed\"], alpha = 0.5)\n",
    "\n",
    "plt.title(\"TEMPERATURE v. LATITUDE\")\n",
    "plt.xlabel(\"Latitude\")\n",
    "plt.ylabel(\"Wind Speed\")\n",
    "plt.savefig(\"Wind.png\")\n",
    "plt.show()"
   ]
  }
 ],
 "metadata": {
  "anaconda-cloud": {},
  "kernel_info": {
   "name": "python3"
  },
  "kernelspec": {
   "display_name": "Python 3",
   "language": "python",
   "name": "python3"
  },
  "language_info": {
   "codemirror_mode": {
    "name": "ipython",
    "version": 3
   },
   "file_extension": ".py",
   "mimetype": "text/x-python",
   "name": "python",
   "nbconvert_exporter": "python",
   "pygments_lexer": "ipython3",
   "version": "3.6.8"
  },
  "nteract": {
   "version": "0.12.3"
  }
 },
 "nbformat": 4,
 "nbformat_minor": 2
}
